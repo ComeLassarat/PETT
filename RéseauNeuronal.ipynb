{
 "cells": [
  {
   "cell_type": "markdown",
   "metadata": {},
   "source": [
    "<h1><center><h1>Algorithme de Machine Learning</h1></center>\n",
    "    \n",
    "<center>Réseau Neuronal Artificiel</center></h1>"
   ]
  },
  {
   "cell_type": "markdown",
   "metadata": {},
   "source": [
    "<h2><b>I. Description du module <span style=\"color:blue\">NeuralNetWork</span></b></h2>\n",
    "\n",
    "<p>On définit dans un premier temps les fonctions <b><i>Sigmoid</i></b> et <b><i>SigPrime</i></b> représentant respectivement la fonction d'activation du réseau et sa dérivée (utile pour la correction, en réalité la dérivée de la sigmoïde est SigPrime(Sigmoid(x)) mais l'utilisation de SigPrime en l'état éclaircit le code). On définit ensuite 4 classes : <b><i>Brain</i></b>, <b><i>Layer</i></b>, <b><i>InputLayer</i></b> et <b><i>OutputLayer</i></b>.</p>\n",
    "<p>La classe <b><i>Brain</i></b> comme son nom l'indique est représentative du Cerveau entier, regroupant tous les couches de neurones. Dans cette classe on orchestre la communication 'synaptique', soit la communication entre couches. C'est la seule classe directement instanciée par l'utilisateur, puisque les autres sont instanciées à la création de celle-ci.</p>\n",
    "<p>La classe <b><i>Layer</i></b> représente une couche de neurones, avec un grand nombre de méthodes permettant la communication avec les autres couches. Les classes <b><i>InputLayer</i></b> et <b><i>OutputLayer</i></b> ne sont que des cas particuliers de couches de neurones (l'entrée et la sortie). </p>\n",
    "<p>On utilisera les modules <i>Numpy</i> et <i>Matplotlib</i> pour la représentation</p>"
   ]
  },
  {
   "cell_type": "code",
   "execution_count": 1,
   "metadata": {},
   "outputs": [],
   "source": [
    "import numpy as np\n",
    "import matplotlib.pyplot as plt"
   ]
  },
  {
   "cell_type": "code",
   "execution_count": 2,
   "metadata": {},
   "outputs": [],
   "source": [
    "#========================== Fonctions \n",
    "\n",
    "def sigmoid(x):\n",
    "    return 1/(1+np.exp(-x))\n",
    "\n",
    "def sigPrime(x):\n",
    "    return x*(1-x)\n"
   ]
  },
  {
   "cell_type": "markdown",
   "metadata": {},
   "source": [
    "<h4>1. Classe <b>Brain</b></h4>\n",
    "<p>À l'initialisation on ne demande que le nombre de neurones en entrée, en sortie, et dans les couches cachées (on considère que toutes les couches cachées ont le même nombre de neurones pour faciliter la prise en main) et enfin le nombre de couches cachées. La classe ne possède que deux méthodes utilisées par l'utilisateur : <b>train</b> et <b>test</b>. La méthode <b>train</b> permet l'entrainement du réseau neuronal avec les données <i>data</i> (cela sera plus détaillé dans la partie des tests. La méthode <b>test</b> permet simplement, une fois le cerveau entrainé, d'avoir la réponse à une entrée donnée.</p>\n",
    "<p>Ci-dessous les codes de toutes les classes.</p>"
   ]
  },
  {
   "cell_type": "code",
   "execution_count": 3,
   "metadata": {},
   "outputs": [],
   "source": [
    "\n",
    "class Brain:\n",
    "    def __init__(self,nb_neurons_input,nb_neurons_hidden,nb_neurons_output,nb_hidden):\n",
    "        self.__layers = [InputLayer(nb_neurons_input)]\n",
    "        self.__layers.append(Layer(nb_neurons_hidden,nb_neurons_input))\n",
    "        for x in range(nb_hidden-1):\n",
    "            self.__layers.append(Layer(nb_neurons_hidden,nb_neurons_hidden))\n",
    "        self.__layers.append(OutputLayer(nb_neurons_output,nb_neurons_hidden))\n",
    "        \n",
    "        self.__train_data = None\n",
    "        self.__train_solution = None\n",
    "        return\n",
    "    \n",
    "    def set_train_data(self,data):\n",
    "        self.__train_data = data\n",
    "        return\n",
    "    \n",
    "    def set_train_solution(self,solution):\n",
    "        self.__train_solution = solution\n",
    "        return\n",
    "    \n",
    "    def run_all(self,entry):\n",
    "        '''\n",
    "        Permet un passage dans le réseau neuronal. \n",
    "        (Un 'ALLER' avec comme entrée la variable entry {FEEDFORWARD})\n",
    "        '''\n",
    "        self.__layers[0].set_entry(entry)\n",
    "        self.__layers[1].set_A_Nminus1(entry)\n",
    "        for i in range(1,len(self.__layers)):\n",
    "            self.__layers[i].run()\n",
    "            if i+1!=len(self.__layers):\n",
    "                self.__layers[i+1].set_A_Nminus1(self.__layers[i].get_A_N())\n",
    "        return\n",
    "    \n",
    "    def correct_all(self,cost=False,coeff=1):\n",
    "        '''\n",
    "        Correction de tous les coefficients du réseau\n",
    "        (passage 'RETOUR' et correction par calcul du gradient {BACKPROPAGATION})\n",
    "        '''\n",
    "        L_N = self.__layers[-1]\n",
    "        L_Nminus1 = self.__layers[-2]\n",
    "        L_N.set_exact(self.__train_solution)\n",
    "        L_N.correct(coeff)\n",
    "        L_Nminus1.set_W_N(L_N.get_W_Nminus1())\n",
    "        L_Nminus1.set_Err_N(L_N.get_Err_Nminus1())\n",
    "        for i in range(2,len(self.__layers)):\n",
    "            L_N = self.__layers[-i]\n",
    "            L_Nminus1 = self.__layers[-i-1]\n",
    "            L_N.correct(coeff)\n",
    "            L_Nminus1.set_W_N(L_N.get_W_Nminus1())\n",
    "            L_Nminus1.set_Err_N(L_N.get_Err_Nminus1())\n",
    "        if cost:\n",
    "            return self.__layers[-1].cost()\n",
    "        return\n",
    "    \n",
    "    def train(self,Data,Solution,Iter_Training,Cost_Rate=10,Coeff=1):\n",
    "        '''\n",
    "        Entrainement du réseau avec les variables Data et Solution\n",
    "        On effectue un nombre d'iteration de l'entrainement : Iter_Training \n",
    "        \n",
    "        Cost_Rate (default=10) le 'pas' du tracé de la courbe du cout en fonction du nb d'iterations\n",
    "        '''\n",
    "        self.set_train_data(Data)\n",
    "        self.set_train_solution(Solution)\n",
    "        Iter = []\n",
    "        Cost = []\n",
    "        I10 = Iter_Training//10\n",
    "        for i in range(Iter_Training):\n",
    "            if i%I10==0:\n",
    "                c = i//I10\n",
    "                c = 10*c\n",
    "                print('Running ... {}%'.format(c))\n",
    "            self.run_all(self.__train_data)\n",
    "            if Iter_Training%Cost_Rate==0:\n",
    "                a = self.correct_all(True,Coeff)\n",
    "#                print('Training Iter N° :',i, 'Cost :',a)\n",
    "                Iter.append(i)\n",
    "                Cost.append(a)\n",
    "            else:\n",
    "                self.correct_all(coeff=Coeff)\n",
    "        plt.plot(Iter,Cost)\n",
    "        plt.show()\n",
    "        return\n",
    "    \n",
    "    def test(self,entry):\n",
    "        '''\n",
    "        Méthode pour simplemennt faire traverser le réseau à la variable entry\n",
    "        À utiliser une fois que le réseau est entrainé\n",
    "        '''\n",
    "        self.run_all(entry)\n",
    "        out = self.__layers[-1].get_A_N()\n",
    "        print('===========OutPut==========')\n",
    "        print(out)\n",
    "        return out"
   ]
  },
  {
   "cell_type": "markdown",
   "metadata": {},
   "source": [
    "<h4>2. Classes <b>Layer</b></h4>\n",
    "<p> "
   ]
  },
  {
   "cell_type": "code",
   "execution_count": 4,
   "metadata": {},
   "outputs": [],
   "source": [
    "class Layer:\n",
    "    def __init__(self,nb_neurons, nb_neurons_Nminus1):\n",
    "        self.__nb_neurons = nb_neurons\n",
    "        \n",
    "        #N-1\n",
    "        self.__A_Nminus1 = None\n",
    "        self.__W_Nminus1 = 2*np.random.random((nb_neurons,nb_neurons_Nminus1)) - 1\n",
    "        self.__B_Nminus1 = 2*np.random.random((nb_neurons,1)) - 1\n",
    "        self.__Err_Nminus1 = None\n",
    "        #N\n",
    "        self.__A_N = np.zeros((nb_neurons,1))\n",
    "        self.__W_N = None\n",
    "        self.__Err_N = None\n",
    "        \n",
    "        return\n",
    "    \n",
    "    \n",
    "    \n",
    "    def get_A_N(self): \n",
    "        return self.__A_N\n",
    "    \n",
    "    def get_Err_Nminus1(self):\n",
    "        return self.__Err_Nminus1\n",
    "    \n",
    "    def get_W_Nminus1(self):\n",
    "        return self.__W_Nminus1\n",
    "    \n",
    "    def set_W_N(self,W):\n",
    "        self.__W_N = W\n",
    "        return\n",
    "    def set_Err_N(self,E):\n",
    "        self.__Err_N = E\n",
    "        return\n",
    "    \n",
    "    def set_A_Nminus1(self,A):\n",
    "        self.__A_Nminus1 = A\n",
    "        return\n",
    "    \n",
    "    #Les méthodes précédentes sont nécéssaires pour la communication synaptique entre couches\n",
    "    \n",
    "    def do_Err_Nminus1(self):\n",
    "        self.__Err_Nminus1 = sigPrime(self.__A_N)*(np.dot(self.__W_N.T,self.__Err_N))\n",
    "        return\n",
    "    \n",
    "    #la variable Err est une variable pivot pour eclaircir les calculs\n",
    "    \n",
    "    def run(self):\n",
    "        '''\n",
    "        Passage dans la couche (FEEDFORWARD)\n",
    "        '''\n",
    "        self.__A_N = sigmoid(np.dot(self.__W_Nminus1,self.__A_Nminus1) + self.__B_Nminus1)\n",
    "        return\n",
    "    \n",
    "    def correct(self,coeff=1): \n",
    "        '''\n",
    "        Correction des coefficiens de W_Nminus1 et B_Nminus1 \n",
    "        '''\n",
    "        if coeff!=1:\n",
    "            print('ok')\n",
    "        self.do_Err_Nminus1()\n",
    "        (a,b) = np.shape(self.__Err_Nminus1)\n",
    "        \n",
    "        corr_W_Nminus1 = coeff*np.dot(self.__Err_Nminus1,self.__A_Nminus1.T)\n",
    "        corr_B_Nminus1 = coeff*np.dot(self.__Err_Nminus1,np.ones((b,1)))\n",
    "        \n",
    "        sign = -1\n",
    "        \n",
    "        self.__W_Nminus1 += sign*corr_W_Nminus1\n",
    "        self.__B_Nminus1 += sign*corr_B_Nminus1\n",
    "        \n",
    "        return"
   ]
  },
  {
   "cell_type": "code",
   "execution_count": 5,
   "metadata": {},
   "outputs": [],
   "source": [
    "class InputLayer(Layer):\n",
    "    def __init__(self,nb_neurons):\n",
    "        self.__neurons = None\n",
    "        self.__nb_neurons = nb_neurons\n",
    "        return\n",
    "    \n",
    "    def set_entry(self,L):\n",
    "        self.__neurons = L\n",
    "        return \n",
    "    \n",
    "    def run(self):\n",
    "        print(\"Can't run entry\")\n",
    "        return\n",
    "    \n",
    "    def correct(self):\n",
    "        print(\"Can't correct entry\")\n",
    "        return "
   ]
  },
  {
   "cell_type": "code",
   "execution_count": 6,
   "metadata": {},
   "outputs": [],
   "source": [
    "class OutputLayer:\n",
    "    def __init__(self,nb_neurons, nb_neurons_Nminus1):\n",
    "        self.__nb_neurons = nb_neurons\n",
    "        \n",
    "        #N-1\n",
    "        self.__A_Nminus1 = None\n",
    "        self.__W_Nminus1 = 2*np.random.random((nb_neurons,nb_neurons_Nminus1)) - 1\n",
    "        self.__B_Nminus1 = 2*np.random.random((nb_neurons,1)) - 1\n",
    "        self.__Err_Nminus1 = None\n",
    "        #N\n",
    "        self.__A_N = np.zeros((nb_neurons,1))\n",
    "        self.__W_N = None\n",
    "        self.__Err_N = None\n",
    "        \n",
    "        self.__exact = None\n",
    "        return\n",
    "\n",
    "    \n",
    "    def set_exact(self,L):\n",
    "        self.__exact = L\n",
    "        return\n",
    "\n",
    "    def cost(self):\n",
    "        c = sum((self.__A_N - self.__exact)**2)\n",
    "        p = len(c)\n",
    "        return sum(c)/p\n",
    "    \n",
    "    def do_Err_Nminus1(self):\n",
    "        self.__Err_N = 2*(self.__A_N - self.__exact)\n",
    "        self.__Err_Nminus1 = sigPrime(self.__A_N)*self.__Err_N\n",
    "        return\n",
    "\n",
    "    def get_A_N(self): \n",
    "        return self.__A_N\n",
    "    \n",
    "    def get_Err_Nminus1(self):\n",
    "        return self.__Err_Nminus1\n",
    "    \n",
    "    def get_W_Nminus1(self):\n",
    "        return self.__W_Nminus1\n",
    "    \n",
    "    def set_W_N(self,W):\n",
    "        self.__W_N = W\n",
    "        return\n",
    "    def set_Err_N(self,E):\n",
    "        self.__Err_N = E\n",
    "        return\n",
    "    \n",
    "    def set_A_Nminus1(self,A):\n",
    "        self.__A_Nminus1 = A\n",
    "        return\n",
    "    \n",
    "    def run(self):\n",
    "        self.__A_N = sigmoid(np.dot(self.__W_Nminus1,self.__A_Nminus1) + self.__B_Nminus1)\n",
    "        return\n",
    "    \n",
    "    def correct(self,coeff=1): \n",
    "        self.do_Err_Nminus1()\n",
    "        (a,b) = np.shape(self.__Err_Nminus1)\n",
    "        \n",
    "        corr_W_Nminus1 = coeff*np.dot(self.__Err_Nminus1,self.__A_Nminus1.T)\n",
    "        corr_B_Nminus1 = coeff*np.dot(self.__Err_Nminus1,np.ones((b,1)))\n",
    "        \n",
    "        sign = -1\n",
    "        \n",
    "        self.__W_Nminus1 += sign*corr_W_Nminus1\n",
    "        self.__B_Nminus1 += sign*corr_B_Nminus1\n",
    "        \n",
    "        return"
   ]
  },
  {
   "cell_type": "markdown",
   "metadata": {},
   "source": [
    "<b></b>"
   ]
  },
  {
   "cell_type": "markdown",
   "metadata": {},
   "source": [
    "<h2>II. Exemple d'utilisation du module</h2>\n"
   ]
  },
  {
   "cell_type": "markdown",
   "metadata": {},
   "source": [
    "Le module peut être utilisé pour identifier une séquence répétitive dans un jeu de données, comme une forme : ce type d'algorithme est souvent utilisé pour identifier une lettre ou un chiffre manuscrit. \n",
    "\n",
    "L'application possible au PE est que l'algorithme pourrait apprendre à reconnaître un coup, en fonction soit de son \"tracé\" en 3D soit de ses projections sur les différents plans. Une autre approche serait d'identifier un coup en fonction de ses paramètres caractéristiques (comme le rayon de courbure, la vitesse moyenne, la vitesse avant et après rebond, etc...).\n",
    "\n"
   ]
  },
  {
   "cell_type": "markdown",
   "metadata": {},
   "source": [
    "<h4>1. Exemple simple</h4>\n",
    "\n",
    "Ci-dessous un exemple très simple d'utilisation : on utilise un réseau 4 entrées 1 sortie et on identifie quand la séquence en entrée contient deux \"1 au milieu\" (comme ici [0,1,1,0] ou [1,1,1,0]) ou du moins se raproche de cette structure. \n",
    "En effet, l'avantage de cet algorithme est que, toutes les valeurs étant réelles entre 0 et 1, la sortie (unique dans ce cas) représente un taux de fiabilité, qui ne vaut donc jamais rigoureusement 1..."
   ]
  },
  {
   "cell_type": "code",
   "execution_count": 7,
   "metadata": {
    "scrolled": false
   },
   "outputs": [
    {
     "name": "stdout",
     "output_type": "stream",
     "text": [
      "Running ... 0%\n",
      "Running ... 10%\n",
      "Running ... 20%\n",
      "Running ... 30%\n",
      "Running ... 40%\n",
      "Running ... 50%\n",
      "Running ... 60%\n",
      "Running ... 70%\n",
      "Running ... 80%\n",
      "Running ... 90%\n"
     ]
    },
    {
     "data": {
      "image/png": "[encoded data removed]",
      "text/plain": [
       "<Figure size 432x288 with 1 Axes>"
      ]
     },
     "metadata": {
      "needs_background": "light"
     },
     "output_type": "display_data"
    },
    {
     "name": "stdout",
     "output_type": "stream",
     "text": [
      "===========OutPut==========\n",
      "[[0.99292803 0.99482973 0.00355931 0.0012171 ]]\n",
      "[[1 1 0 0]]\n"
     ]
    }
   ],
   "source": [
    "inputs = np.array([[0   , 0   , 0   , 1   ],\n",
    "                   [0.2 , 0   , 0.9 , 1   ],\n",
    "                   [0   , 1   , 1   , 0.75],\n",
    "                   [0.76, 0.22, 0.97, 0   ],\n",
    "                   [1   , 1   , 1   , 0.2 ]])\n",
    "\n",
    "reponses = np.array([[0],\n",
    "                     [0],\n",
    "                     [1],\n",
    "                     [0],\n",
    "                     [1]])\n",
    "\n",
    "inputs_test = np.array([[1  , 0.95, 1  , 0],\n",
    "                        [0.2, 1   , 0.7, 0],\n",
    "                        [0  , 0   , 1  , 0],\n",
    "                        [1  , 0   , 0  , 0]])\n",
    "\n",
    "reponses_test = np.array([[1],\n",
    "                          [1],\n",
    "                          [0],\n",
    "                          [0]])\n",
    "\n",
    "Alexa = Brain(4,16,1,2)\n",
    "Alexa.train(inputs.T,reponses.T,500)\n",
    "\n",
    "Alexa.test(inputs_test.T)\n",
    "print(reponses_test.T)"
   ]
  },
  {
   "cell_type": "markdown",
   "metadata": {},
   "source": [
    "On a une fiabilité très grande pour un entraînement très court (seulement 500 itérations d'entraînement). On a tracé le coût (i.e. l'erreur) en fonction du nombre d'iterations. "
   ]
  },
  {
   "cell_type": "markdown",
   "metadata": {},
   "source": [
    "<h2>Conclusion quant à l'application au PE</h2>\n",
    "\n",
    "Bien que l'algorithme soit fonctionnel dans l'exemple plus haut, dès que l'on s'interesse à une identification plus poussée, la complexité de la phase d'<i>entraînement</i> devient trop importante et on observe des phénomènes de saturation de l'erreur relative à des valeurs bien trop élevées (au mieux 0.2)(Cela a été testé dans l'identification d'un caractère manuscrit (un x)). L'approche comme mentionée au-dessus, constistant à identifier la nature d'un coup via ses paramètres caractéristiques, pourrait répondre à ce problème bien que son fonctionnement reste purement théorique."
   ]
  }
 ],
 "metadata": {
  "kernelspec": {
   "display_name": "Python 3",
   "language": "python",
   "name": "python3"
  },
  "language_info": {
   "codemirror_mode": {
    "name": "ipython",
    "version": 3
   },
   "file_extension": ".py",
   "mimetype": "text/x-python",
   "name": "python",
   "nbconvert_exporter": "python",
   "pygments_lexer": "ipython3",
   "version": "3.7.4"
  }
 },
 "nbformat": 4,
 "nbformat_minor": 2
}
